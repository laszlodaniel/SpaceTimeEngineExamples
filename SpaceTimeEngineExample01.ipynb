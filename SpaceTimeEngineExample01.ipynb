{
  "nbformat": 4,
  "nbformat_minor": 0,
  "metadata": {
    "colab": {
      "name": "SpaceTimeEngineExample01.ipynb",
      "version": "0.3.2",
      "provenance": [],
      "collapsed_sections": [],
      "include_colab_link": true
    },
    "kernelspec": {
      "name": "python3",
      "display_name": "Python 3"
    },
    "accelerator": "GPU"
  },
  "cells": [
    {
      "cell_type": "markdown",
      "metadata": {
        "id": "view-in-github",
        "colab_type": "text"
      },
      "source": [
        "<a href=\"https://colab.research.google.com/github/laszlodaniel/SpaceTimeEngineExamples/blob/master/SpaceTimeEngineExample01.ipynb\" target=\"_parent\"><img src=\"https://colab.research.google.com/assets/colab-badge.svg\" alt=\"Open In Colab\"/></a>"
      ]
    },
    {
      "cell_type": "code",
      "metadata": {
        "id": "ssbLHpHsYezx",
        "colab_type": "code",
        "colab": {}
      },
      "source": [
        "!pip3 install spacetimeengine"
      ],
      "execution_count": 0,
      "outputs": []
    },
    {
      "cell_type": "code",
      "metadata": {
        "id": "HEAvvdj7XOGU",
        "colab_type": "code",
        "colab": {}
      },
      "source": [
        "from spacetimeengine import *"
      ],
      "execution_count": 0,
      "outputs": []
    },
    {
      "cell_type": "code",
      "metadata": {
        "id": "_JA-VuhUZbYv",
        "colab_type": "code",
        "colab": {}
      },
      "source": [
        "blackhole = SpaceTime(Solution().schwarzschild()) "
      ],
      "execution_count": 0,
      "outputs": []
    }
  ]
}